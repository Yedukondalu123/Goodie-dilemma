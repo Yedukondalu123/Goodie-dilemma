{
 "cells": [
  {
   "cell_type": "code",
   "execution_count": 333,
   "metadata": {},
   "outputs": [],
   "source": [
    "d=[]\n",
    "with open(\"input.txt\",'r') as f:\n",
    "    for line in f:\n",
    "        d.append(line)\n",
    "d\n",
    "res=[]\n",
    "a=d[4:]\n",
    "n=len(a)\n",
    "for i in range(n):\n",
    "    a[i]=a[i].rstrip(\"\\n\")\n",
    "for i in range(n):\n",
    "    res.append([int(j) for j in a[i].split() if j.isdigit()])\n",
    "num=[]\n",
    "g=0\n",
    "for i in res:\n",
    "    h=i\n",
    "    strings = [str(integer) for integer in h]\n",
    "    a_string = \"\".join(strings)\n",
    "    an_integer = int(a_string)\n",
    "    num.append(an_integer)\n",
    "k=[int(j) for j in d[0].split() if j.isdigit()]\n",
    "s=0\n",
    "for j in k:\n",
    "    s=s+j\n",
    "l =[] \n",
    "for i in range(0, len(num)):\n",
    "    \n",
    "    m = num[i] \n",
    "    remLst = num[i + 1:] \n",
    "    for p in n_length_combo(remLst, s-1):\n",
    "        l.append([m]+p) \n",
    "w=[]\n",
    "for i in l:\n",
    "    w.append(max(i)-min(i))\n",
    "c=min(w)\n",
    "diff=str(c)\n",
    "b=w.index(c)\n",
    "final_list=l[b]\n",
    "\n",
    "le=[]\n",
    "o=len(num)\n",
    "for i in range(s):\n",
    "    for j in range(o):\n",
    "        if final_list[i]==num[j]:\n",
    "            le.append(j) \n",
    "item=[]\n",
    "for u in range(s):\n",
    "    item.append(a[le[u]])\n",
    "    item.append('\\n')\n",
    "my_file = open(\"output.txt\", \"w\")\n",
    "my_file.writelines(\"The goodies selected for distribution are: \\n\")\n",
    "my_file.writelines(\"\\n\")\n",
    "my_file.writelines(\"\\n\")\n",
    "my_file.writelines(item)\n",
    "my_file.writelines(\"\\n\")\n",
    "my_file.writelines(\"\\n\")\n",
    "my_file.writelines(\"And the difference between the chosen goodie with highest price and the lowest price is : \")\n",
    "my_file.write(diff)\n",
    "my_file.close()\n"
   ]
  },
  {
   "cell_type": "code",
   "execution_count": null,
   "metadata": {},
   "outputs": [],
   "source": []
  }
 ],
 "metadata": {
  "kernelspec": {
   "display_name": "Python 3",
   "language": "python",
   "name": "python3"
  },
  "language_info": {
   "codemirror_mode": {
    "name": "ipython",
    "version": 3
   },
   "file_extension": ".py",
   "mimetype": "text/x-python",
   "name": "python",
   "nbconvert_exporter": "python",
   "pygments_lexer": "ipython3",
   "version": "3.7.6"
  }
 },
 "nbformat": 4,
 "nbformat_minor": 4
}
